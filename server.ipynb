{
 "cells": [
  {
   "cell_type": "code",
   "execution_count": 1,
   "metadata": {},
   "outputs": [],
   "source": [
    "%load_ext autoreload\n",
    "%autoreload 2"
   ]
  },
  {
   "cell_type": "code",
   "execution_count": 2,
   "metadata": {},
   "outputs": [],
   "source": [
    "from auto_model_server import models, start_server"
   ]
  },
  {
   "cell_type": "code",
   "execution_count": 3,
   "metadata": {},
   "outputs": [],
   "source": [
    "models.clear()"
   ]
  },
  {
   "cell_type": "code",
   "execution_count": 4,
   "metadata": {},
   "outputs": [
    {
     "name": "stdout",
     "output_type": "stream",
     "text": [
      "Best Trial So Far: #1\n",
      "Score: 0.3499\n",
      "\n",
      "Best Value So Far |Hyperparameter\n",
      "512               |following_text_dense_block_1/units_0\n",
      "0.25              |following_text_dense_block_1/dropout\n",
      "512               |following_text_dense_block_2/units_0\n",
      "0.25              |following_text_dense_block_2/dropout\n",
      "0                 |classification_head_4/dropout\n",
      "adam              |optimizer\n",
      "0.001             |learning_rate\n",
      "2                 |tuner/epochs\n",
      "0                 |tuner/initial_epoch\n",
      "6                 |tuner/bracket\n",
      "0                 |tuner/round\n",
      "\n",
      "🤖 Trial    #6:  1/40 [========>...........] - loss: 1.2295 - acc: 0.6955 - val_loss: ****** (best: ******) - val_acc: ******  🤖 Trial    #5:  1/40 [========>...........] - loss: 1.7841 - acc: 0.5688 - val_loss: ****** (best: ******) - val_acc: ******  🤖 Trial    #7:  1/40 [========>...........] - loss: 1.2797 - acc: 0.6683 - val_loss: ****** (best: ******) - val_acc: ******  🤖 Trial    #8:  1/40 [===>................] - loss: 1.8459 - acc: 0.5801 - val_loss: ****** (best: ******) - val_acc: ******\r"
     ]
    }
   ],
   "source": [
    "await start_server()"
   ]
  }
 ],
 "metadata": {
  "kernelspec": {
   "display_name": "Python 3.9.13 ('cloud-trainer-WiXV0je7-py3.9')",
   "language": "python",
   "name": "python3"
  },
  "language_info": {
   "codemirror_mode": {
    "name": "ipython",
    "version": 3
   },
   "file_extension": ".py",
   "mimetype": "text/x-python",
   "name": "python",
   "nbconvert_exporter": "python",
   "pygments_lexer": "ipython3",
   "version": "3.9.13"
  },
  "orig_nbformat": 4,
  "vscode": {
   "interpreter": {
    "hash": "85ef2dd0c927ffc37e2dd5a09124bd66498089379d36e2b554da41f20b6964e6"
   }
  }
 },
 "nbformat": 4,
 "nbformat_minor": 2
}
