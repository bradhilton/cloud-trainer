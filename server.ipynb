{
 "cells": [
  {
   "cell_type": "code",
   "execution_count": 1,
   "metadata": {},
   "outputs": [],
   "source": [
    "%load_ext autoreload\n",
    "%autoreload 2"
   ]
  },
  {
   "cell_type": "code",
   "execution_count": 2,
   "metadata": {},
   "outputs": [],
   "source": [
    "from auto_model_server import models, start_server"
   ]
  },
  {
   "cell_type": "code",
   "execution_count": 3,
   "metadata": {},
   "outputs": [],
   "source": [
    "models.clear()"
   ]
  },
  {
   "cell_type": "code",
   "execution_count": 4,
   "metadata": {},
   "outputs": [
    {
     "name": "stdout",
     "output_type": "stream",
     "text": [
      "Best Trial: #6\n",
      "Score: 0.7983\n",
      "\n",
      "Best Value So Far |Hyperparameter\n",
      "0.25              |dense_block_1/dropout\n",
      "512               |preceding_text_dense_block_1/units_0\n",
      "0                 |preceding_text_dense_block_1/dropout\n",
      "128               |following_text_dense_block_1/units_0\n",
      "0                 |following_text_dense_block_1/dropout\n",
      "512               |preceding_text_dense_block_2/units_0\n",
      "0                 |preceding_text_dense_block_2/dropout\n",
      "512               |following_text_dense_block_2/units_0\n",
      "0                 |following_text_dense_block_2/dropout\n",
      "0                 |classification_head_1/dropout\n",
      "adam              |optimizer\n",
      "0.001             |learning_rate\n",
      "\n",
      "🤖 Trial   #7: 2/2 [....................] - loss: 2.6743 - acc: 0.5343 - val_loss: 1.5760 (best: 1.5760) - val_acc: 0.6042  🤖 Trial   #8: 1/2 [==========>.........] - loss: 2.7713 - acc: 0.4572 - val_loss: ****** (best: ******) - val_acc: ******"
     ]
    },
    {
     "name": "stderr",
     "output_type": "stream",
     "text": [
      "Request Cancelled ❌\n"
     ]
    }
   ],
   "source": [
    "await start_server()"
   ]
  }
 ],
 "metadata": {
  "kernelspec": {
   "display_name": "Python 3.9.12 ('cloud-trainer-3_BlvU0x-py3.9')",
   "language": "python",
   "name": "python3"
  },
  "language_info": {
   "codemirror_mode": {
    "name": "ipython",
    "version": 3
   },
   "file_extension": ".py",
   "mimetype": "text/x-python",
   "name": "python",
   "nbconvert_exporter": "python",
   "pygments_lexer": "ipython3",
   "version": "3.9.12"
  },
  "orig_nbformat": 4,
  "vscode": {
   "interpreter": {
    "hash": "2724d86083e29e37f8dc64116996a3be2ba7448dfdb3cc5f8dec7e041c9b1bd5"
   }
  }
 },
 "nbformat": 4,
 "nbformat_minor": 2
}
