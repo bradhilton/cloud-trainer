{
 "cells": [
  {
   "cell_type": "code",
   "execution_count": 1,
   "metadata": {},
   "outputs": [],
   "source": [
    "from aiohttp import web\n",
    "from aiohttp.typedefs import Handler\n",
    "import asyncio\n",
    "import autokeras as ak\n",
    "from hooks import Hook\n",
    "import nest_asyncio\n",
    "import pickle\n",
    "import sys\n",
    "from tblib import pickling_support\n",
    "from typing import Any, Callable, Coroutine\n",
    "\n",
    "nest_asyncio.apply()\n",
    "pickling_support.install()"
   ]
  },
  {
   "cell_type": "code",
   "execution_count": 2,
   "metadata": {},
   "outputs": [
    {
     "name": "stdout",
     "output_type": "stream",
     "text": [
      "INFO:tensorflow:Reloading Oracle from existing project /Users/brad/github/bradhilton/trade-ideas/data/autokeras/labels/automodel22/oracle.json\n",
      "INFO:tensorflow:Reloading Tuner from /Users/brad/github/bradhilton/trade-ideas/data/autokeras/labels/automodel22/tuner0.json\n"
     ]
    },
    {
     "name": "stderr",
     "output_type": "stream",
     "text": [
      "2022-07-19 15:12:02.482743: I tensorflow/core/platform/cpu_feature_guard.cc:193] This TensorFlow binary is optimized with oneAPI Deep Neural Network Library (oneDNN) to use the following CPU instructions in performance-critical operations:  AVX2 FMA\n",
      "To enable them in other operations, rebuild TensorFlow with the appropriate compiler flags.\n"
     ]
    },
    {
     "name": "stdout",
     "output_type": "stream",
     "text": [
      "632/632 [==============================] - 3s 3ms/step - loss: 0.2865 - accuracy: 0.9606\n"
     ]
    }
   ],
   "source": [
    "is_running = True\n",
    "models: dict[str, ak.AutoModel] = {}\n",
    "\n",
    "def stream(handler: Callable[[web.Request], Coroutine[Any, Any, Any]]) -> Handler:\n",
    "    async def stream(request: web.Request) -> web.StreamResponse:\n",
    "        response = web.StreamResponse()\n",
    "        await response.prepare(request)\n",
    "        current_loop = asyncio.get_event_loop()\n",
    "\n",
    "        def write(type: bytes):\n",
    "            return lambda __s: current_loop.run_until_complete(\n",
    "                response.write(type + b\":::::\" + bytes(__s, 'utf-8'))\n",
    "            )\n",
    "\n",
    "        with Hook(sys.stdout.write, write(b'stdout')):\n",
    "            with Hook(sys.stderr.write, write(b'stderr')):\n",
    "                try:\n",
    "                    result = await handler(request)\n",
    "                except BaseException as exception:\n",
    "                    result = exception\n",
    "            \n",
    "        await response.write(b\"result:::::\" + pickle.dumps(result))\n",
    "        return response\n",
    "\n",
    "    return stream\n",
    "\n",
    "@stream\n",
    "async def get_or_create_model(request: web.Request) -> str:\n",
    "    body = await request.read()\n",
    "    args, kwargs = pickle.loads(body)\n",
    "    model = ak.AutoModel(*args, **kwargs)\n",
    "    models[model.project_name] = model\n",
    "    return model.project_name\n",
    "\n",
    "@stream\n",
    "async def get_model_attribute(request: web.Request) -> Any:\n",
    "    return getattr(models[request.match_info['project_name']], request.match_info['attribute'])\n",
    "\n",
    "@stream\n",
    "async def perform_model_method(request: web.Request) -> Any:\n",
    "    model = models[request.match_info['project_name']]\n",
    "    args, kwargs = pickle.loads(await request.read())\n",
    "    return getattr(model, request.match_info['method'])(*args, **kwargs)\n",
    "\n",
    "app = web.Application(client_max_size=1024 ** 3)\n",
    "app.add_routes(\n",
    "    [\n",
    "        web.get(\"/models/{project_name}/{attribute}\", get_model_attribute),\n",
    "        web.post(\"/models/{project_name}/{method}\", perform_model_method),\n",
    "        web.put(\"/models\", get_or_create_model),\n",
    "    ]\n",
    ")\n",
    "runner = web.AppRunner(app)\n",
    "await runner.setup()\n",
    "\n",
    "site = web.TCPSite(runner, \"localhost\", 8082)\n",
    "await site.start()\n",
    "\n",
    "while is_running:\n",
    "    try:\n",
    "        await asyncio.sleep(0.25)\n",
    "    except BaseException:\n",
    "        is_running = False\n",
    "        break\n",
    "\n",
    "await site.stop()"
   ]
  }
 ],
 "metadata": {
  "kernelspec": {
   "display_name": "Python 3.9.12 ('cloud-trainer-3_BlvU0x-py3.9')",
   "language": "python",
   "name": "python3"
  },
  "language_info": {
   "codemirror_mode": {
    "name": "ipython",
    "version": 3
   },
   "file_extension": ".py",
   "mimetype": "text/x-python",
   "name": "python",
   "nbconvert_exporter": "python",
   "pygments_lexer": "ipython3",
   "version": "3.9.12"
  },
  "orig_nbformat": 4,
  "vscode": {
   "interpreter": {
    "hash": "2724d86083e29e37f8dc64116996a3be2ba7448dfdb3cc5f8dec7e041c9b1bd5"
   }
  }
 },
 "nbformat": 4,
 "nbformat_minor": 2
}
