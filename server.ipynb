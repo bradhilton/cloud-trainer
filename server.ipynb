{
 "cells": [
  {
   "cell_type": "code",
   "execution_count": 1,
   "metadata": {},
   "outputs": [],
   "source": [
    "from auto_model import AutoModel\n",
    "from aiohttp import web\n",
    "from aiohttp.typedefs import Handler\n",
    "import asyncio\n",
    "import autokeras as ak\n",
    "from hooks import Hook\n",
    "import nest_asyncio\n",
    "import pickle\n",
    "import sys\n",
    "from tblib import pickling_support\n",
    "from typing import Any, Callable, Coroutine\n",
    "\n",
    "nest_asyncio.apply()\n",
    "pickling_support.install()"
   ]
  },
  {
   "cell_type": "code",
   "execution_count": 7,
   "metadata": {},
   "outputs": [],
   "source": [
    "models: dict[str, AutoModel] = {}"
   ]
  },
  {
   "cell_type": "code",
   "execution_count": 8,
   "metadata": {},
   "outputs": [
    {
     "name": "stdout",
     "output_type": "stream",
     "text": [
      "Trial 1 Complete [00h 06m 28s]\n",
      "val_loss: 0.15888012945652008\n",
      "\n",
      "Best val_loss So Far: 0.15888012945652008\n",
      "Total elapsed time: 00h 06m 28s\n",
      "\n",
      "Search: Running Trial #2\n",
      "\n",
      "Value             |Best Value So Far |Hyperparameter\n",
      "adam              |adam              |optimizer\n",
      "0.004             |0.00025           |learning_rate\n",
      "\n"
     ]
    },
    {
     "name": "stdout",
     "output_type": "stream",
     "text": [
      "Epoch 1/40\n",
      "1273/1273 [==============================] - 15s 10ms/step - loss: 0.8391 - accuracy: 0.8297 - val_loss: 0.3698 - val_accuracy: 0.8931\n",
      "Epoch 2/40\n",
      "1273/1273 [==============================] - 12s 9ms/step - loss: 0.3854 - accuracy: 0.9161 - val_loss: 0.3242 - val_accuracy: 0.9089\n",
      "Epoch 3/40\n",
      "1273/1273 [==============================] - 12s 10ms/step - loss: 0.3731 - accuracy: 0.9205 - val_loss: 0.2965 - val_accuracy: 0.9214\n",
      "Epoch 4/40\n",
      "1273/1273 [==============================] - 13s 10ms/step - loss: 0.3002 - accuracy: 0.9353 - val_loss: 0.2538 - val_accuracy: 0.9322\n",
      "Epoch 5/40\n",
      "1273/1273 [==============================] - 12s 9ms/step - loss: 0.2939 - accuracy: 0.9385 - val_loss: 0.2566 - val_accuracy: 0.9300\n",
      "Epoch 6/40\n",
      "1273/1273 [==============================] - 14s 11ms/step - loss: 0.2881 - accuracy: 0.9408 - val_loss: 0.3136 - val_accuracy: 0.9244\n",
      "Epoch 7/40\n",
      "1273/1273 [==============================] - 12s 9ms/step - loss: 0.2811 - accuracy: 0.9423 - val_loss: 0.2338 - val_accuracy: 0.9382\n",
      "Epoch 8/40\n",
      "1273/1273 [==============================] - 12s 10ms/step - loss: 0.2993 - accuracy: 0.9425 - val_loss: 0.3589 - val_accuracy: 0.9070\n",
      "Epoch 9/40\n",
      "1273/1273 [==============================] - 11s 9ms/step - loss: 0.2767 - accuracy: 0.9443 - val_loss: 0.2507 - val_accuracy: 0.9398\n",
      "Epoch 10/40\n",
      "1273/1273 [==============================] - 11s 9ms/step - loss: 0.2628 - accuracy: 0.9476 - val_loss: 0.2519 - val_accuracy: 0.9388\n",
      "Epoch 11/40\n",
      "1273/1273 [==============================] - 12s 10ms/step - loss: 0.2828 - accuracy: 0.9440 - val_loss: 0.2520 - val_accuracy: 0.9321\n",
      "Epoch 12/40\n",
      "1273/1273 [==============================] - 12s 9ms/step - loss: 0.2783 - accuracy: 0.9463 - val_loss: 0.2336 - val_accuracy: 0.9421\n",
      "Epoch 13/40\n",
      "1273/1273 [==============================] - 12s 9ms/step - loss: 0.2668 - accuracy: 0.9486 - val_loss: 0.2550 - val_accuracy: 0.9393\n",
      "Epoch 14/40\n"
     ]
    },
    {
     "name": "stderr",
     "output_type": "stream",
     "text": [
      "Request Cancelled ❌\n"
     ]
    }
   ],
   "source": [
    "def stream(handler: Callable[[web.Request], Coroutine[Any, Any, Any]]) -> Handler:\n",
    "    async def stream(request: web.Request) -> web.StreamResponse:\n",
    "        response = web.StreamResponse()\n",
    "        await response.prepare(request)\n",
    "        current_loop = asyncio.get_event_loop()\n",
    "\n",
    "        def write(type: bytes):\n",
    "            def write(__s: str) -> None:\n",
    "                current_loop.run_until_complete(\n",
    "                    response.write(type + b\":::::\" + bytes(__s, 'utf-8'))\n",
    "                )\n",
    "            return write\n",
    "\n",
    "        with Hook(sys.stdout.write, write(b'stdout')):\n",
    "            with Hook(sys.stderr.write, write(b'stderr')):\n",
    "                try:\n",
    "                    result = await handler(request)\n",
    "                except BaseException as exception:\n",
    "                    result = exception\n",
    "\n",
    "        if isinstance(result, (asyncio.CancelledError, ConnectionResetError)):\n",
    "            print(\"Request Cancelled ❌\", file=sys.stderr)\n",
    "            return response\n",
    "            \n",
    "        await response.write(b\"result:::::\" + pickle.dumps(result))\n",
    "        return response\n",
    "\n",
    "    return stream\n",
    "\n",
    "@stream\n",
    "async def get_or_create_model(request: web.Request) -> str:\n",
    "    body = await request.read()\n",
    "    args, kwargs = pickle.loads(body)\n",
    "    model = AutoModel(*args, **kwargs)\n",
    "    models[model.project_name] = model\n",
    "    return model.project_name\n",
    "\n",
    "@stream\n",
    "async def get_model_attribute(request: web.Request) -> Any:\n",
    "    return getattr(models[request.match_info['project_name']], request.match_info['attribute'])\n",
    "\n",
    "@stream\n",
    "async def perform_model_method(request: web.Request) -> Any:\n",
    "    model = models[request.match_info['project_name']]\n",
    "    args, kwargs = pickle.loads(await request.read())\n",
    "    return getattr(model, request.match_info['method'])(*args, **kwargs)\n",
    "\n",
    "@stream\n",
    "async def loop(request: web.Request) -> Any:\n",
    "    while True:\n",
    "        try:\n",
    "            await asyncio.sleep(1)\n",
    "            print(\"Loop...\")\n",
    "        except BaseException as exception:\n",
    "            raise exception\n",
    "\n",
    "app = web.Application(client_max_size=1024 ** 3)\n",
    "app.add_routes(\n",
    "    [\n",
    "        web.get(\"/models/{project_name}/{attribute}\", get_model_attribute),\n",
    "        web.post(\"/models/{project_name}/{method}\", perform_model_method),\n",
    "        web.put(\"/models\", get_or_create_model),\n",
    "        web.post(\"/loop\", loop),\n",
    "    ]\n",
    ")\n",
    "runner = web.AppRunner(app)\n",
    "await runner.setup()\n",
    "\n",
    "site = web.TCPSite(runner, host=\"0.0.0.0\", port=8081)\n",
    "await site.start()\n",
    "\n",
    "while True:\n",
    "    try:\n",
    "        await asyncio.sleep(0.25)\n",
    "    except BaseException:\n",
    "        break\n",
    "\n",
    "await site.stop()"
   ]
  }
 ],
 "metadata": {
  "kernelspec": {
   "display_name": "Python 3.9.2 ('cloud-trainer-WiXV0je7-py3.9')",
   "language": "python",
   "name": "python3"
  },
  "language_info": {
   "codemirror_mode": {
    "name": "ipython",
    "version": 3
   },
   "file_extension": ".py",
   "mimetype": "text/x-python",
   "name": "python",
   "nbconvert_exporter": "python",
   "pygments_lexer": "ipython3",
   "version": "3.9.13"
  },
  "orig_nbformat": 4,
  "vscode": {
   "interpreter": {
    "hash": "85ef2dd0c927ffc37e2dd5a09124bd66498089379d36e2b554da41f20b6964e6"
   }
  }
 },
 "nbformat": 4,
 "nbformat_minor": 2
}
